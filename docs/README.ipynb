{
 "cells": [
  {
   "cell_type": "markdown",
   "metadata": {
    "dotnet_interactive": {
     "language": "csharp"
    }
   },
   "source": [
    "# Extensions for FluentAssertions\n"
   ]
  },
  {
   "cell_type": "markdown",
   "metadata": {},
   "source": [
    "## EventualAssertions\n",
    "\n",
    "The extension allows to loop FluentAssertions checks for a specified period of time. The extension relies heavily on the [Assertion Scopes](https://fluentassertions.com/introduction#assertion-scopes) feature and is an assertion scope itself. Any failed assertion among those wrapped with the extension will cause another attempt. The last try is always done out of the Assertion Scope (under the parent scope)\n",
    "\n",
    "A particular goal when designing the extension was to provide the experience similar to given by Assertion Scopes, that is, no additional nesting would be needed. This is elegantly achievable in F\\#, but a little bit of a challenge for C\\#"
   ]
  },
  {
   "cell_type": "markdown",
   "metadata": {},
   "source": [
    "### EventualAssertions in C\\#"
   ]
  },
  {
   "cell_type": "code",
   "execution_count": null,
   "metadata": {
    "dotnet_interactive": {
     "language": "csharp"
    },
    "vscode": {
     "languageId": "dotnet-interactive.csharp"
    }
   },
   "outputs": [
    {
     "data": {
      "text/html": [
       "<div><div></div><div></div><div><strong>Installed Packages</strong><ul><li><span>mazharenko.FluentAssertions.Extensions, 2.0.0</span></li></ul></div></div>"
      ]
     },
     "metadata": {},
     "output_type": "display_data"
    }
   ],
   "source": [
    "#r \"nuget: mazharenko.FluentAssertions.Extensions, *\""
   ]
  },
  {
   "cell_type": "code",
   "execution_count": null,
   "metadata": {
    "dotnet_interactive": {
     "language": "csharp"
    },
    "vscode": {
     "languageId": "dotnet-interactive.csharp"
    }
   },
   "outputs": [],
   "source": [
    "using mazharenko.FluentAssertions.Extensions;\n",
    "using FluentAssertions;\n",
    "using FluentAssertions.Extensions;\n",
    "\n",
    "var attempts = EventualAssertions.Attempts(4.Seconds(), 400.Milliseconds());"
   ]
  },
  {
   "cell_type": "markdown",
   "metadata": {},
   "source": [
    "`attempts` now is of a type that implements `IEnumerable` returning `IEnumerator` wrapping an assertion scope. On each new element requested the assertion scope is checked and the specified delay is waited. Here, assertions are supposed to be placed in the body of the loop over `attempts`. Elements of `attempts` can provide some meta information about the attempt."
   ]
  },
  {
   "cell_type": "code",
   "execution_count": null,
   "metadata": {
    "dotnet_interactive": {
     "language": "csharp"
    },
    "vscode": {
     "languageId": "dotnet-interactive.csharp"
    }
   },
   "outputs": [
    {
     "name": "stdout",
     "output_type": "stream",
     "text": [
      "1\r\n",
      "2\r\n",
      "3\r\n",
      "4\r\n",
      "5\r\n",
      "6\r\n",
      "7\r\n",
      "8\r\n",
      "9\r\n"
     ]
    },
    {
     "data": {
      "text/plain": [
       "Wall time: 3579.3668ms"
      ]
     },
     "metadata": {},
     "output_type": "display_data"
    }
   ],
   "source": [
    "#!time\n",
    "var inFuture = DateTime.Now.AddSeconds(3);\n",
    "\n",
    "foreach (var attempt in attempts)\n",
    "{\n",
    "    Console.WriteLine(attempt.Number);\n",
    "    DateTime.Now.Should().BeAfter(inFuture);\n",
    "}"
   ]
  },
  {
   "cell_type": "code",
   "execution_count": null,
   "metadata": {
    "dotnet_interactive": {
     "language": "csharp"
    },
    "vscode": {
     "languageId": "dotnet-interactive.csharp"
    }
   },
   "outputs": [
    {
     "ename": "Error",
     "evalue": "FluentAssertions.Execution.AssertionFailedException: Expected value to be 3, but found 2.\r\n   at FluentAssertions.Execution.FallbackTestFramework.Throw(String message) in /_/Src/FluentAssertions/Execution/FallbackTestFramework.cs:line 21\r\n   at FluentAssertions.Execution.TestFrameworkProvider.Throw(String message) in /_/Src/FluentAssertions/Execution/TestFrameworkProvider.cs:line 34\r\n   at FluentAssertions.Execution.DefaultAssertionStrategy.HandleFailure(String message) in /_/Src/FluentAssertions/Execution/DefaultAssertionStrategy.cs:line 25\r\n   at FluentAssertions.Execution.AssertionScope.FailWith(Func`1 failReasonFunc) in /_/Src/FluentAssertions/Execution/AssertionScope.cs:line 274\r\n   at FluentAssertions.Execution.AssertionScope.FailWith(Func`1 failReasonFunc) in /_/Src/FluentAssertions/Execution/AssertionScope.cs:line 246\r\n   at FluentAssertions.Execution.AssertionScope.FailWith(String message, Object[] args) in /_/Src/FluentAssertions/Execution/AssertionScope.cs:line 296\r\n   at FluentAssertions.Numeric.NumericAssertions`2.Be(T expected, String because, Object[] becauseArgs) in /_/Src/FluentAssertions/Numeric/NumericAssertions.cs:line 60\r\n   at Submission#4.<<Initialize>>d__0.MoveNext()\r\n--- End of stack trace from previous location ---\r\n   at Microsoft.CodeAnalysis.Scripting.ScriptExecutionState.RunSubmissionsAsync[TResult](ImmutableArray`1 precedingExecutors, Func`2 currentExecutor, StrongBox`1 exceptionHolderOpt, Func`2 catchExceptionOpt, CancellationToken cancellationToken)",
     "output_type": "error",
     "traceback": [
      "FluentAssertions.Execution.AssertionFailedException: Expected value to be 3, but found 2.\r\n",
      "   at FluentAssertions.Execution.FallbackTestFramework.Throw(String message) in /_/Src/FluentAssertions/Execution/FallbackTestFramework.cs:line 21\r\n",
      "   at FluentAssertions.Execution.TestFrameworkProvider.Throw(String message) in /_/Src/FluentAssertions/Execution/TestFrameworkProvider.cs:line 34\r\n",
      "   at FluentAssertions.Execution.DefaultAssertionStrategy.HandleFailure(String message) in /_/Src/FluentAssertions/Execution/DefaultAssertionStrategy.cs:line 25\r\n",
      "   at FluentAssertions.Execution.AssertionScope.FailWith(Func`1 failReasonFunc) in /_/Src/FluentAssertions/Execution/AssertionScope.cs:line 274\r\n",
      "   at FluentAssertions.Execution.AssertionScope.FailWith(Func`1 failReasonFunc) in /_/Src/FluentAssertions/Execution/AssertionScope.cs:line 246\r\n",
      "   at FluentAssertions.Execution.AssertionScope.FailWith(String message, Object[] args) in /_/Src/FluentAssertions/Execution/AssertionScope.cs:line 296\r\n",
      "   at FluentAssertions.Numeric.NumericAssertions`2.Be(T expected, String because, Object[] becauseArgs) in /_/Src/FluentAssertions/Numeric/NumericAssertions.cs:line 60\r\n",
      "   at Submission#4.<<Initialize>>d__0.MoveNext()\r\n",
      "--- End of stack trace from previous location ---\r\n",
      "   at Microsoft.CodeAnalysis.Scripting.ScriptExecutionState.RunSubmissionsAsync[TResult](ImmutableArray`1 precedingExecutors, Func`2 currentExecutor, StrongBox`1 exceptionHolderOpt, Func`2 catchExceptionOpt, CancellationToken cancellationToken)"
     ]
    }
   ],
   "source": [
    "foreach (var _ in EventualAssertions.Attempts(400, 50))\n",
    "    (1+1).Should().Be(3);"
   ]
  },
  {
   "cell_type": "markdown",
   "metadata": {},
   "source": [
    "EventualAssertions can be nested in other assertion scopes."
   ]
  },
  {
   "cell_type": "code",
   "execution_count": null,
   "metadata": {
    "dotnet_interactive": {
     "language": "csharp"
    },
    "vscode": {
     "languageId": "dotnet-interactive.csharp"
    }
   },
   "outputs": [
    {
     "ename": "Error",
     "evalue": "FluentAssertions.Execution.AssertionFailedException: Expected value to be 3, but found 2.\r\nExpected value to be 5, but found 4.\r\n\r\n   at FluentAssertions.Execution.FallbackTestFramework.Throw(String message) in /_/Src/FluentAssertions/Execution/FallbackTestFramework.cs:line 21\r\n   at FluentAssertions.Execution.TestFrameworkProvider.Throw(String message) in /_/Src/FluentAssertions/Execution/TestFrameworkProvider.cs:line 34\r\n   at FluentAssertions.Execution.CollectingAssertionStrategy.ThrowIfAny(IDictionary`2 context) in /_/Src/FluentAssertions/Execution/CollectingAssertionStrategy.cs:line 42\r\n   at Submission#5.<<Initialize>>d__0.MoveNext()\r\n--- End of stack trace from previous location ---\r\n   at Microsoft.CodeAnalysis.Scripting.ScriptExecutionState.RunSubmissionsAsync[TResult](ImmutableArray`1 precedingExecutors, Func`2 currentExecutor, StrongBox`1 exceptionHolderOpt, Func`2 catchExceptionOpt, CancellationToken cancellationToken)",
     "output_type": "error",
     "traceback": [
      "FluentAssertions.Execution.AssertionFailedException: Expected value to be 3, but found 2.\r\n",
      "Expected value to be 5, but found 4.\r\n",
      "\r\n",
      "   at FluentAssertions.Execution.FallbackTestFramework.Throw(String message) in /_/Src/FluentAssertions/Execution/FallbackTestFramework.cs:line 21\r\n",
      "   at FluentAssertions.Execution.TestFrameworkProvider.Throw(String message) in /_/Src/FluentAssertions/Execution/TestFrameworkProvider.cs:line 34\r\n",
      "   at FluentAssertions.Execution.CollectingAssertionStrategy.ThrowIfAny(IDictionary`2 context) in /_/Src/FluentAssertions/Execution/CollectingAssertionStrategy.cs:line 42\r\n",
      "   at Submission#5.<<Initialize>>d__0.MoveNext()\r\n",
      "--- End of stack trace from previous location ---\r\n",
      "   at Microsoft.CodeAnalysis.Scripting.ScriptExecutionState.RunSubmissionsAsync[TResult](ImmutableArray`1 precedingExecutors, Func`2 currentExecutor, StrongBox`1 exceptionHolderOpt, Func`2 catchExceptionOpt, CancellationToken cancellationToken)"
     ]
    }
   ],
   "source": [
    "using FluentAssertions.Execution;\n",
    "\n",
    "using (new AssertionScope())\n",
    "{\n",
    "    foreach (var _ in EventualAssertions.Attempts(400, 50))\n",
    "    {\n",
    "        (1+1).Should().Be(3);\n",
    "        break;\n",
    "    }\n",
    "    foreach (var _ in EventualAssertions.Attempts(400, 50))\n",
    "    {\n",
    "        (2*2).Should().Be(5);\n",
    "        break;\n",
    "    }\n",
    "}"
   ]
  },
  {
   "cell_type": "markdown",
   "metadata": {},
   "source": [
    "Likewise, other assertion scopes can be nested in EventualAssertions"
   ]
  },
  {
   "cell_type": "code",
   "execution_count": null,
   "metadata": {
    "dotnet_interactive": {
     "language": "csharp"
    },
    "vscode": {
     "languageId": "dotnet-interactive.csharp"
    }
   },
   "outputs": [
    {
     "ename": "Error",
     "evalue": "FluentAssertions.Execution.AssertionFailedException: Expected value to be 3, but found 2.\r\nExpected value to be 5, but found 4.\r\n\r\n   at FluentAssertions.Execution.FallbackTestFramework.Throw(String message) in /_/Src/FluentAssertions/Execution/FallbackTestFramework.cs:line 21\r\n   at FluentAssertions.Execution.TestFrameworkProvider.Throw(String message) in /_/Src/FluentAssertions/Execution/TestFrameworkProvider.cs:line 34\r\n   at FluentAssertions.Execution.CollectingAssertionStrategy.ThrowIfAny(IDictionary`2 context) in /_/Src/FluentAssertions/Execution/CollectingAssertionStrategy.cs:line 42\r\n   at Submission#19.<<Initialize>>d__0.MoveNext()\r\n--- End of stack trace from previous location ---\r\n   at Microsoft.CodeAnalysis.Scripting.ScriptExecutionState.RunSubmissionsAsync[TResult](ImmutableArray`1 precedingExecutors, Func`2 currentExecutor, StrongBox`1 exceptionHolderOpt, Func`2 catchExceptionOpt, CancellationToken cancellationToken)",
     "output_type": "error",
     "traceback": [
      "FluentAssertions.Execution.AssertionFailedException: Expected value to be 3, but found 2.\r\n",
      "Expected value to be 5, but found 4.\r\n",
      "\r\n",
      "   at FluentAssertions.Execution.FallbackTestFramework.Throw(String message) in /_/Src/FluentAssertions/Execution/FallbackTestFramework.cs:line 21\r\n",
      "   at FluentAssertions.Execution.TestFrameworkProvider.Throw(String message) in /_/Src/FluentAssertions/Execution/TestFrameworkProvider.cs:line 34\r\n",
      "   at FluentAssertions.Execution.CollectingAssertionStrategy.ThrowIfAny(IDictionary`2 context) in /_/Src/FluentAssertions/Execution/CollectingAssertionStrategy.cs:line 42\r\n",
      "   at Submission#19.<<Initialize>>d__0.MoveNext()\r\n",
      "--- End of stack trace from previous location ---\r\n",
      "   at Microsoft.CodeAnalysis.Scripting.ScriptExecutionState.RunSubmissionsAsync[TResult](ImmutableArray`1 precedingExecutors, Func`2 currentExecutor, StrongBox`1 exceptionHolderOpt, Func`2 catchExceptionOpt, CancellationToken cancellationToken)"
     ]
    }
   ],
   "source": [
    "foreach (var _ in EventualAssertions.Attempts(400, 30))\n",
    "{\n",
    "    using (new AssertionScope()) \n",
    "    {\n",
    "        (1+1).Should().Be(3);\n",
    "        (2*2).Should().Be(5);\n",
    "    }\n",
    "}"
   ]
  },
  {
   "cell_type": "markdown",
   "metadata": {},
   "source": [
    "Asynchronous methods are also available. Those would use `Task.Delay` instead of `Thread.Sleep`."
   ]
  },
  {
   "cell_type": "code",
   "execution_count": null,
   "metadata": {
    "dotnet_interactive": {
     "language": "csharp"
    },
    "vscode": {
     "languageId": "dotnet-interactive.csharp"
    }
   },
   "outputs": [
    {
     "data": {
      "text/plain": [
       "Wall time: 3361.0724ms"
      ]
     },
     "metadata": {},
     "output_type": "display_data"
    }
   ],
   "source": [
    "#!time\n",
    "var inFuture = DateTime.Now.AddSeconds(3);\n",
    "await foreach(var _ in EventualAssertions.AttemptsAsync(4.Seconds(), 400.Milliseconds()))\n",
    "{\n",
    "    DateTime.Now.Should().BeAfter(inFuture);\n",
    "}"
   ]
  },
  {
   "cell_type": "markdown",
   "metadata": {},
   "source": [
    "### EventualAssertions in F\\#\n",
    "\n",
    "The F\\# implementation provides a special looping computation expression builder."
   ]
  },
  {
   "cell_type": "code",
   "execution_count": null,
   "metadata": {
    "dotnet_interactive": {
     "language": "fsharp"
    },
    "vscode": {
     "languageId": "dotnet-interactive.fsharp"
    }
   },
   "outputs": [
    {
     "data": {
      "text/html": [
       "<div><div></div><div></div><div><strong>Installed Packages</strong><ul><li><span>mazharenko.FluentAssertions.Extensions.FSharp, 2.0.0</span></li></ul></div></div>"
      ]
     },
     "metadata": {},
     "output_type": "display_data"
    }
   ],
   "source": [
    "#r \"nuget: mazharenko.FluentAssertions.Extensions.FSharp, *\"\n",
    "\n",
    "open mazharenko.FluentAssertions.Extensions.EventualAssertions"
   ]
  },
  {
   "cell_type": "code",
   "execution_count": null,
   "metadata": {
    "dotnet_interactive": {
     "language": "fsharp"
    },
    "vscode": {
     "languageId": "dotnet-interactive.fsharp"
    }
   },
   "outputs": [
    {
     "data": {
      "text/plain": [
       "Wall time: 3956.1151ms"
      ]
     },
     "metadata": {},
     "output_type": "display_data"
    }
   ],
   "source": [
    "#!time\n",
    "\n",
    "open FluentAssertions;\n",
    "\n",
    "let inFuture = DateTime.Now.AddSeconds(float 3)\n",
    "(eventually (TimeSpan.FromSeconds(4)) (TimeSpan.FromMilliseconds(40))) {\n",
    "    DateTime.Now.Should().BeAfter(inFuture, null, null) |> ignore;\n",
    "}"
   ]
  },
  {
   "cell_type": "code",
   "execution_count": null,
   "metadata": {
    "dotnet_interactive": {
     "language": "fsharp"
    },
    "vscode": {
     "languageId": "dotnet-interactive.fsharp"
    }
   },
   "outputs": [
    {
     "ename": "Error",
     "evalue": "FluentAssertions.Execution.AssertionFailedException: Expected value to be 3, but found 2.\r\n   at FluentAssertions.Execution.FallbackTestFramework.Throw(String message) in /_/Src/FluentAssertions/Execution/FallbackTestFramework.cs:line 21\r\n   at FluentAssertions.Execution.TestFrameworkProvider.Throw(String message) in /_/Src/FluentAssertions/Execution/TestFrameworkProvider.cs:line 34\r\n   at FluentAssertions.Execution.DefaultAssertionStrategy.HandleFailure(String message) in /_/Src/FluentAssertions/Execution/DefaultAssertionStrategy.cs:line 25\r\n   at FluentAssertions.Execution.AssertionScope.FailWith(Func`1 failReasonFunc) in /_/Src/FluentAssertions/Execution/AssertionScope.cs:line 285\r\n   at FluentAssertions.Numeric.NumericAssertions`2.Be(T expected, String because, Object[] becauseArgs) in /_/Src/FluentAssertions/Numeric/NumericAssertions.cs:line 60\r\n   at FSI_0007.it@2-1.Invoke(Unit unitVar)\r\n   at mazharenko.FluentAssertions.Extensions.EventualAssertions.EventualAssertionsBuilder.Run(FSharpFunc`2 f)\r\n   at <StartupCode$FSI_0007>.$FSI_0007.main@()",
     "output_type": "error",
     "traceback": [
      "FluentAssertions.Execution.AssertionFailedException: Expected value to be 3, but found 2.\r\n",
      "   at FluentAssertions.Execution.FallbackTestFramework.Throw(String message) in /_/Src/FluentAssertions/Execution/FallbackTestFramework.cs:line 21\r\n",
      "   at FluentAssertions.Execution.TestFrameworkProvider.Throw(String message) in /_/Src/FluentAssertions/Execution/TestFrameworkProvider.cs:line 34\r\n",
      "   at FluentAssertions.Execution.DefaultAssertionStrategy.HandleFailure(String message) in /_/Src/FluentAssertions/Execution/DefaultAssertionStrategy.cs:line 25\r\n",
      "   at FluentAssertions.Execution.AssertionScope.FailWith(Func`1 failReasonFunc) in /_/Src/FluentAssertions/Execution/AssertionScope.cs:line 285\r\n",
      "   at FluentAssertions.Numeric.NumericAssertions`2.Be(T expected, String because, Object[] becauseArgs) in /_/Src/FluentAssertions/Numeric/NumericAssertions.cs:line 60\r\n",
      "   at FSI_0007.it@2-1.Invoke(Unit unitVar)\r\n",
      "   at mazharenko.FluentAssertions.Extensions.EventualAssertions.EventualAssertionsBuilder.Run(FSharpFunc`2 f)\r\n",
      "   at <StartupCode$FSI_0007>.$FSI_0007.main@()"
     ]
    }
   ],
   "source": [
    "(eventuallyMs 400 40) {\n",
    "    (1+1).Should().Be(3, null, null) |> ignore;\n",
    "}"
   ]
  },
  {
   "cell_type": "markdown",
   "metadata": {},
   "source": [
    "EventualAssertions builder can be nested in other assertion scopes."
   ]
  },
  {
   "cell_type": "code",
   "execution_count": null,
   "metadata": {
    "dotnet_interactive": {
     "language": "fsharp"
    },
    "vscode": {
     "languageId": "dotnet-interactive.fsharp"
    }
   },
   "outputs": [
    {
     "ename": "Error",
     "evalue": "FluentAssertions.Execution.AssertionFailedException: Expected value to be 3, but found 2.\r\nExpected value to be 5, but found 4.\r\n\r\n   at FluentAssertions.Execution.FallbackTestFramework.Throw(String message) in /_/Src/FluentAssertions/Execution/FallbackTestFramework.cs:line 21\r\n   at FluentAssertions.Execution.TestFrameworkProvider.Throw(String message) in /_/Src/FluentAssertions/Execution/TestFrameworkProvider.cs:line 34\r\n   at FluentAssertions.Execution.CollectingAssertionStrategy.ThrowIfAny(IDictionary`2 context) in /_/Src/FluentAssertions/Execution/CollectingAssertionStrategy.cs:line 42\r\n   at Microsoft.FSharp.Core.Operators.Using[T,TResult](T resource, FSharpFunc`2 action) in D:\\a\\_work\\1\\s\\src\\FSharp.Core\\prim-types.fs:line 4887\r\n   at <StartupCode$FSI_0029>.$FSI_0029.main@()",
     "output_type": "error",
     "traceback": [
      "FluentAssertions.Execution.AssertionFailedException: Expected value to be 3, but found 2.\r\n",
      "Expected value to be 5, but found 4.\r\n",
      "\r\n",
      "   at FluentAssertions.Execution.FallbackTestFramework.Throw(String message) in /_/Src/FluentAssertions/Execution/FallbackTestFramework.cs:line 21\r\n",
      "   at FluentAssertions.Execution.TestFrameworkProvider.Throw(String message) in /_/Src/FluentAssertions/Execution/TestFrameworkProvider.cs:line 34\r\n",
      "   at FluentAssertions.Execution.CollectingAssertionStrategy.ThrowIfAny(IDictionary`2 context) in /_/Src/FluentAssertions/Execution/CollectingAssertionStrategy.cs:line 42\r\n",
      "   at Microsoft.FSharp.Core.Operators.Using[T,TResult](T resource, FSharpFunc`2 action) in D:\\a\\_work\\1\\s\\src\\FSharp.Core\\prim-types.fs:line 4887\r\n",
      "   at <StartupCode$FSI_0029>.$FSI_0029.main@()"
     ]
    }
   ],
   "source": [
    "open FluentAssertions.Execution;\n",
    "\n",
    "using (new AssertionScope()) (fun _ -> \n",
    "    (eventuallyMs 0 0) {\n",
    "      (1+1).Should().Be(3, null, null) |> ignore;\n",
    "    }\n",
    "    (eventuallyMs 0 0) {\n",
    "      (2*2).Should().Be(5, null, null) |> ignore;\n",
    "    }\n",
    ")"
   ]
  },
  {
   "cell_type": "markdown",
   "metadata": {},
   "source": [
    "Likewise, other assertion scopes can be nested in EventualAssertions"
   ]
  },
  {
   "cell_type": "code",
   "execution_count": null,
   "metadata": {
    "dotnet_interactive": {
     "language": "fsharp"
    },
    "vscode": {
     "languageId": "dotnet-interactive.fsharp"
    }
   },
   "outputs": [
    {
     "ename": "Error",
     "evalue": "FluentAssertions.Execution.AssertionFailedException: Expected value to be 3, but found 2.\r\nExpected value to be 5, but found 4.\r\n\r\n   at FluentAssertions.Execution.FallbackTestFramework.Throw(String message) in /_/Src/FluentAssertions/Execution/FallbackTestFramework.cs:line 21\r\n   at FluentAssertions.Execution.TestFrameworkProvider.Throw(String message) in /_/Src/FluentAssertions/Execution/TestFrameworkProvider.cs:line 34\r\n   at FluentAssertions.Execution.CollectingAssertionStrategy.ThrowIfAny(IDictionary`2 context) in /_/Src/FluentAssertions/Execution/CollectingAssertionStrategy.cs:line 42\r\n   at Microsoft.FSharp.Core.Operators.Using[T,TResult](T resource, FSharpFunc`2 action) in D:\\a\\_work\\1\\s\\src\\FSharp.Core\\prim-types.fs:line 4887\r\n   at FSI_0041.it@4-25.Invoke(Unit unitVar)\r\n   at mazharenko.FluentAssertions.Extensions.EventualAssertions.EventualAssertionsBuilder.Run(FSharpFunc`2 f)\r\n   at <StartupCode$FSI_0041>.$FSI_0041.main@()",
     "output_type": "error",
     "traceback": [
      "FluentAssertions.Execution.AssertionFailedException: Expected value to be 3, but found 2.\r\n",
      "Expected value to be 5, but found 4.\r\n",
      "\r\n",
      "   at FluentAssertions.Execution.FallbackTestFramework.Throw(String message) in /_/Src/FluentAssertions/Execution/FallbackTestFramework.cs:line 21\r\n",
      "   at FluentAssertions.Execution.TestFrameworkProvider.Throw(String message) in /_/Src/FluentAssertions/Execution/TestFrameworkProvider.cs:line 34\r\n",
      "   at FluentAssertions.Execution.CollectingAssertionStrategy.ThrowIfAny(IDictionary`2 context) in /_/Src/FluentAssertions/Execution/CollectingAssertionStrategy.cs:line 42\r\n",
      "   at Microsoft.FSharp.Core.Operators.Using[T,TResult](T resource, FSharpFunc`2 action) in D:\\a\\_work\\1\\s\\src\\FSharp.Core\\prim-types.fs:line 4887\r\n",
      "   at FSI_0041.it@4-25.Invoke(Unit unitVar)\r\n",
      "   at mazharenko.FluentAssertions.Extensions.EventualAssertions.EventualAssertionsBuilder.Run(FSharpFunc`2 f)\r\n",
      "   at <StartupCode$FSI_0041>.$FSI_0041.main@()"
     ]
    }
   ],
   "source": [
    "open FluentAssertions.Execution;\n",
    "\n",
    "(eventuallyMs 400 40) {\n",
    "    using (new AssertionScope()) (fun _ -> \n",
    "        (1+1).Should().Be(3, null, null) |> ignore;\n",
    "        (2*2).Should().Be(5, null, null) |> ignore;\n",
    "    )\n",
    "}"
   ]
  },
  {
   "cell_type": "markdown",
   "metadata": {},
   "source": [
    "Asynchronous methods are also available. Those would use `Async.Sleep` instead of `Thread.Sleep`."
   ]
  },
  {
   "cell_type": "code",
   "execution_count": null,
   "metadata": {
    "dotnet_interactive": {
     "language": "fsharp"
    },
    "vscode": {
     "languageId": "dotnet-interactive.fsharp"
    }
   },
   "outputs": [
    {
     "data": {
      "text/plain": [
       "Wall time: 3322.205ms"
      ]
     },
     "metadata": {},
     "output_type": "display_data"
    }
   ],
   "source": [
    "#!time\n",
    "\n",
    "let inFuture = DateTime.Now.AddSeconds(3)\n",
    "(eventuallyAsyncMs 4000 400) {\n",
    "    DateTime.Now.Should().BeAfter(inFuture, null, null) |> ignore\n",
    "} |> Async.RunSynchronously"
   ]
  }
 ],
 "metadata": {
  "kernelspec": {
   "display_name": ".NET (C#)",
   "language": "C#",
   "name": ".net-csharp"
  },
  "language_info": {
   "file_extension": ".cs",
   "mimetype": "text/x-csharp",
   "name": "C#",
   "pygments_lexer": "csharp",
   "version": "9.0"
  },
  "orig_nbformat": 4,
  "vscode": {
   "interpreter": {
    "hash": "d682c41405c1f2b20cc212e3c0b9d566c6aa25e00b936883719ee134a249e8f6"
   }
  }
 },
 "nbformat": 4,
 "nbformat_minor": 2
}
