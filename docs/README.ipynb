{
 "cells": [
  {
   "cell_type": "markdown",
   "metadata": {
    "dotnet_interactive": {
     "language": "csharp"
    }
   },
   "source": [
    "# Extensions for FluentAssertions\n"
   ]
  },
  {
   "cell_type": "markdown",
   "metadata": {},
   "source": [
    "## EventualAssertions\n",
    "\n",
    "The extension allows to loop FluentAssertions checks for a specified period of time. The extensions relies heavily on the [Assertion Scopes](https://fluentassertions.com/introduction#assertion-scopes) feature and is an assertion scope itself. All assertions wrapped with the extension will be batched and throw an exception only if the timeout has expired. Otherwise, a new attempt will be made for the whole batch.\n",
    "\n",
    "A particular goal when designing the extension was to provide the experience similar to given by Assertion Scopes, that is, no additional nesting would be needed. This is elegantly achievable in F\\#, but a little bit of a challenge for C\\#"
   ]
  },
  {
   "cell_type": "markdown",
   "metadata": {},
   "source": [
    "### EventualAssertions in C\\#"
   ]
  },
  {
   "cell_type": "code",
   "execution_count": null,
   "metadata": {
    "dotnet_interactive": {
     "language": "csharp"
    },
    "vscode": {
     "languageId": "dotnet-interactive.csharp"
    }
   },
   "outputs": [
    {
     "data": {
      "text/html": [
       "<div><div></div><div></div><div><strong>Installed Packages</strong><ul><li><span>mazharenko.FluentAssertions.Extensions, 1.0.0</span></li></ul></div></div>"
      ]
     },
     "metadata": {},
     "output_type": "display_data"
    }
   ],
   "source": [
    "#r \"nuget: mazharenko.FluentAssertions.Extensions, *\""
   ]
  },
  {
   "cell_type": "code",
   "execution_count": null,
   "metadata": {
    "dotnet_interactive": {
     "language": "csharp"
    },
    "vscode": {
     "languageId": "dotnet-interactive.csharp"
    }
   },
   "outputs": [],
   "source": [
    "using mazharenko.FluentAssertions.Extensions;\n",
    "using FluentAssertions;\n",
    "using FluentAssertions.Extensions;\n",
    "\n",
    "var attempts = EventualAssertions.Attempts(4.Seconds(), 400.Milliseconds());"
   ]
  },
  {
   "cell_type": "markdown",
   "metadata": {},
   "source": [
    "`attempts` now is of a type that implements `IEnumerable` returning `IEnumerator` wrapping an assertion scope. On each new element requested the assertion scope is checked and the specified delay is waited. Here, assertions are supposed to be placed in the body of the loop over `attempts`. Elements of `attempts` can provide some meta information about the attempt."
   ]
  },
  {
   "cell_type": "code",
   "execution_count": null,
   "metadata": {
    "dotnet_interactive": {
     "language": "csharp"
    },
    "vscode": {
     "languageId": "dotnet-interactive.csharp"
    }
   },
   "outputs": [
    {
     "name": "stdout",
     "output_type": "stream",
     "text": [
      "1\r\n",
      "2\r\n",
      "3\r\n",
      "4\r\n",
      "5\r\n",
      "6\r\n",
      "7\r\n",
      "8\r\n",
      "9\r\n"
     ]
    },
    {
     "data": {
      "text/plain": [
       "Wall time: 3693.6485ms"
      ]
     },
     "metadata": {},
     "output_type": "display_data"
    }
   ],
   "source": [
    "#!time\n",
    "var inFuture = DateTime.Now.AddSeconds(3);\n",
    "\n",
    "foreach (var attempt in attempts)\n",
    "{\n",
    "    Console.WriteLine(attempt.Number);\n",
    "    DateTime.Now.Should().BeAfter(inFuture);\n",
    "}"
   ]
  },
  {
   "cell_type": "code",
   "execution_count": null,
   "metadata": {
    "dotnet_interactive": {
     "language": "csharp"
    },
    "vscode": {
     "languageId": "dotnet-interactive.csharp"
    }
   },
   "outputs": [
    {
     "ename": "Error",
     "evalue": "FluentAssertions.Execution.AssertionFailedException: Expected value to be 3, but found 2.\r\n\r\n   at FluentAssertions.Execution.FallbackTestFramework.Throw(String message) in /_/Src/FluentAssertions/Execution/FallbackTestFramework.cs:line 21\r\n   at FluentAssertions.Execution.TestFrameworkProvider.Throw(String message) in /_/Src/FluentAssertions/Execution/TestFrameworkProvider.cs:line 34\r\n   at FluentAssertions.Execution.CollectingAssertionStrategy.ThrowIfAny(IDictionary`2 context) in /_/Src/FluentAssertions/Execution/CollectingAssertionStrategy.cs:line 42\r\n   at mazharenko.FluentAssertions.Extensions.Eventual.AttemptsEnumerator.Dispose()\r\n   at Submission#4.<<Initialize>>d__0.MoveNext()\r\n--- End of stack trace from previous location ---\r\n   at Microsoft.CodeAnalysis.Scripting.ScriptExecutionState.RunSubmissionsAsync[TResult](ImmutableArray`1 precedingExecutors, Func`2 currentExecutor, StrongBox`1 exceptionHolderOpt, Func`2 catchExceptionOpt, CancellationToken cancellationToken)",
     "output_type": "error",
     "traceback": [
      "FluentAssertions.Execution.AssertionFailedException: Expected value to be 3, but found 2.\r\n",
      "\r\n",
      "   at FluentAssertions.Execution.FallbackTestFramework.Throw(String message) in /_/Src/FluentAssertions/Execution/FallbackTestFramework.cs:line 21\r\n",
      "   at FluentAssertions.Execution.TestFrameworkProvider.Throw(String message) in /_/Src/FluentAssertions/Execution/TestFrameworkProvider.cs:line 34\r\n",
      "   at FluentAssertions.Execution.CollectingAssertionStrategy.ThrowIfAny(IDictionary`2 context) in /_/Src/FluentAssertions/Execution/CollectingAssertionStrategy.cs:line 42\r\n",
      "   at mazharenko.FluentAssertions.Extensions.Eventual.AttemptsEnumerator.Dispose()\r\n",
      "   at Submission#4.<<Initialize>>d__0.MoveNext()\r\n",
      "--- End of stack trace from previous location ---\r\n",
      "   at Microsoft.CodeAnalysis.Scripting.ScriptExecutionState.RunSubmissionsAsync[TResult](ImmutableArray`1 precedingExecutors, Func`2 currentExecutor, StrongBox`1 exceptionHolderOpt, Func`2 catchExceptionOpt, CancellationToken cancellationToken)"
     ]
    }
   ],
   "source": [
    "foreach (var _ in EventualAssertions.Attempts(400, 50))\n",
    "    (1+1).Should().Be(3);"
   ]
  },
  {
   "cell_type": "markdown",
   "metadata": {},
   "source": [
    "EventualAssertions can be nested in other assertion scopes."
   ]
  },
  {
   "cell_type": "code",
   "execution_count": null,
   "metadata": {
    "dotnet_interactive": {
     "language": "csharp"
    },
    "vscode": {
     "languageId": "dotnet-interactive.csharp"
    }
   },
   "outputs": [
    {
     "ename": "Error",
     "evalue": "FluentAssertions.Execution.AssertionFailedException: Expected value to be 3, but found 2.\r\nExpected value to be 5, but found 4.\r\n\r\n   at FluentAssertions.Execution.FallbackTestFramework.Throw(String message) in /_/Src/FluentAssertions/Execution/FallbackTestFramework.cs:line 21\r\n   at FluentAssertions.Execution.TestFrameworkProvider.Throw(String message) in /_/Src/FluentAssertions/Execution/TestFrameworkProvider.cs:line 34\r\n   at FluentAssertions.Execution.CollectingAssertionStrategy.ThrowIfAny(IDictionary`2 context) in /_/Src/FluentAssertions/Execution/CollectingAssertionStrategy.cs:line 42\r\n   at Submission#5.<<Initialize>>d__0.MoveNext()\r\n--- End of stack trace from previous location ---\r\n   at Microsoft.CodeAnalysis.Scripting.ScriptExecutionState.RunSubmissionsAsync[TResult](ImmutableArray`1 precedingExecutors, Func`2 currentExecutor, StrongBox`1 exceptionHolderOpt, Func`2 catchExceptionOpt, CancellationToken cancellationToken)",
     "output_type": "error",
     "traceback": [
      "FluentAssertions.Execution.AssertionFailedException: Expected value to be 3, but found 2.\r\n",
      "Expected value to be 5, but found 4.\r\n",
      "\r\n",
      "   at FluentAssertions.Execution.FallbackTestFramework.Throw(String message) in /_/Src/FluentAssertions/Execution/FallbackTestFramework.cs:line 21\r\n",
      "   at FluentAssertions.Execution.TestFrameworkProvider.Throw(String message) in /_/Src/FluentAssertions/Execution/TestFrameworkProvider.cs:line 34\r\n",
      "   at FluentAssertions.Execution.CollectingAssertionStrategy.ThrowIfAny(IDictionary`2 context) in /_/Src/FluentAssertions/Execution/CollectingAssertionStrategy.cs:line 42\r\n",
      "   at Submission#5.<<Initialize>>d__0.MoveNext()\r\n",
      "--- End of stack trace from previous location ---\r\n",
      "   at Microsoft.CodeAnalysis.Scripting.ScriptExecutionState.RunSubmissionsAsync[TResult](ImmutableArray`1 precedingExecutors, Func`2 currentExecutor, StrongBox`1 exceptionHolderOpt, Func`2 catchExceptionOpt, CancellationToken cancellationToken)"
     ]
    }
   ],
   "source": [
    "using FluentAssertions.Execution;\n",
    "\n",
    "using (new AssertionScope())\n",
    "{\n",
    "    foreach (var _ in EventualAssertions.Attempts(400, 50))\n",
    "    {\n",
    "        (1+1).Should().Be(3);\n",
    "        break;\n",
    "    }\n",
    "    foreach (var _ in EventualAssertions.Attempts(400, 50))\n",
    "    {\n",
    "        (2*2).Should().Be(5);\n",
    "        break;\n",
    "    }\n",
    "}"
   ]
  },
  {
   "cell_type": "markdown",
   "metadata": {},
   "source": [
    "Asynchronous methods are also available. Those would use `Task.Delay` instead of `Thread.Sleep`."
   ]
  },
  {
   "cell_type": "code",
   "execution_count": null,
   "metadata": {
    "dotnet_interactive": {
     "language": "csharp"
    },
    "vscode": {
     "languageId": "dotnet-interactive.csharp"
    }
   },
   "outputs": [
    {
     "data": {
      "text/plain": [
       "Wall time: 3366.0839ms"
      ]
     },
     "metadata": {},
     "output_type": "display_data"
    }
   ],
   "source": [
    "#!time\n",
    "var inFuture = DateTime.Now.AddSeconds(3);\n",
    "await foreach(var _ in EventualAssertions.AttemptsAsync(4.Seconds(), 400.Milliseconds()))\n",
    "{\n",
    "    DateTime.Now.Should().BeAfter(inFuture);\n",
    "}"
   ]
  },
  {
   "cell_type": "markdown",
   "metadata": {},
   "source": [
    "### EventualAssertions in F\\#\n",
    "\n",
    "The F\\# implementation provides a special looping computation expression builder."
   ]
  },
  {
   "cell_type": "code",
   "execution_count": null,
   "metadata": {
    "dotnet_interactive": {
     "language": "fsharp"
    },
    "vscode": {
     "languageId": "dotnet-interactive.fsharp"
    }
   },
   "outputs": [
    {
     "data": {
      "text/html": [
       "<div><div><strong>Restore sources</strong><ul><li><span>C:\\Workspace\\FluentAssertions.Extensions\\</span></li></ul></div><div></div><div></div></div>"
      ]
     },
     "metadata": {},
     "output_type": "display_data"
    }
   ],
   "source": [
    "#i nuget:C:\\Workspace\\FluentAssertions.Extensions\\"
   ]
  },
  {
   "cell_type": "code",
   "execution_count": null,
   "metadata": {
    "dotnet_interactive": {
     "language": "fsharp"
    },
    "vscode": {
     "languageId": "dotnet-interactive.fsharp"
    }
   },
   "outputs": [
    {
     "data": {
      "text/html": [
       "<div><div><strong>Restore sources</strong><ul><li><span>C:\\Workspace\\FluentAssertions.Extensions\\</span></li></ul></div><div></div><div><strong>Installed Packages</strong><ul><li><span>mazharenko.FluentAssertions.Extensions.FSharp, 1.0.1</span></li></ul></div></div>"
      ]
     },
     "metadata": {},
     "output_type": "display_data"
    }
   ],
   "source": [
    "#r \"nuget: mazharenko.FluentAssertions.Extensions.FSharp, *\"\n",
    "\n",
    "open mazharenko.FluentAssertions.Extensions.EventualAssertions"
   ]
  },
  {
   "cell_type": "code",
   "execution_count": null,
   "metadata": {
    "dotnet_interactive": {
     "language": "fsharp"
    },
    "vscode": {
     "languageId": "dotnet-interactive.fsharp"
    }
   },
   "outputs": [
    {
     "data": {
      "text/plain": [
       "Wall time: 4048.9904ms"
      ]
     },
     "metadata": {},
     "output_type": "display_data"
    }
   ],
   "source": [
    "#!time\n",
    "\n",
    "open FluentAssertions;\n",
    "\n",
    "let inFuture = DateTime.Now.AddSeconds(float 3)\n",
    "(eventually (TimeSpan.FromSeconds(4)) (TimeSpan.FromMilliseconds(40))) {\n",
    "    DateTime.Now.Should().BeAfter(inFuture, null, null) |> ignore;\n",
    "}"
   ]
  },
  {
   "cell_type": "code",
   "execution_count": null,
   "metadata": {
    "dotnet_interactive": {
     "language": "fsharp"
    },
    "vscode": {
     "languageId": "dotnet-interactive.fsharp"
    }
   },
   "outputs": [
    {
     "ename": "Error",
     "evalue": "FluentAssertions.Execution.AssertionFailedException: Expected value to be 3, but found 2.\r\n\r\n   at FluentAssertions.Execution.FallbackTestFramework.Throw(String message) in /_/Src/FluentAssertions/Execution/FallbackTestFramework.cs:line 21\r\n   at FluentAssertions.Execution.TestFrameworkProvider.Throw(String message) in /_/Src/FluentAssertions/Execution/TestFrameworkProvider.cs:line 34\r\n   at FluentAssertions.Execution.CollectingAssertionStrategy.ThrowIfAny(IDictionary`2 context) in /_/Src/FluentAssertions/Execution/CollectingAssertionStrategy.cs:line 42\r\n   at mazharenko.FluentAssertions.Extensions.EventualAssertions.EventualAssertionsBuilder.Delay(FSharpFunc`2 f)\r\n   at <StartupCode$FSI_0007>.$FSI_0007.main@()",
     "output_type": "error",
     "traceback": [
      "FluentAssertions.Execution.AssertionFailedException: Expected value to be 3, but found 2.\r\n",
      "\r\n",
      "   at FluentAssertions.Execution.FallbackTestFramework.Throw(String message) in /_/Src/FluentAssertions/Execution/FallbackTestFramework.cs:line 21\r\n",
      "   at FluentAssertions.Execution.TestFrameworkProvider.Throw(String message) in /_/Src/FluentAssertions/Execution/TestFrameworkProvider.cs:line 34\r\n",
      "   at FluentAssertions.Execution.CollectingAssertionStrategy.ThrowIfAny(IDictionary`2 context) in /_/Src/FluentAssertions/Execution/CollectingAssertionStrategy.cs:line 42\r\n",
      "   at mazharenko.FluentAssertions.Extensions.EventualAssertions.EventualAssertionsBuilder.Delay(FSharpFunc`2 f)\r\n",
      "   at <StartupCode$FSI_0007>.$FSI_0007.main@()"
     ]
    }
   ],
   "source": [
    "(eventuallyMs 400 40) {\n",
    "    (1+1).Should().Be(3, null, null) |> ignore;\n",
    "}"
   ]
  },
  {
   "cell_type": "markdown",
   "metadata": {},
   "source": [
    "EventualAssertions builder can be nested in other assertion scopes."
   ]
  },
  {
   "cell_type": "code",
   "execution_count": null,
   "metadata": {
    "dotnet_interactive": {
     "language": "fsharp"
    },
    "vscode": {
     "languageId": "dotnet-interactive.fsharp"
    }
   },
   "outputs": [
    {
     "ename": "Error",
     "evalue": "FluentAssertions.Execution.AssertionFailedException: Expected value to be 3, but found 2.\r\nExpected value to be 5, but found 4.\r\n\r\n   at FluentAssertions.Execution.FallbackTestFramework.Throw(String message) in /_/Src/FluentAssertions/Execution/FallbackTestFramework.cs:line 21\r\n   at FluentAssertions.Execution.TestFrameworkProvider.Throw(String message) in /_/Src/FluentAssertions/Execution/TestFrameworkProvider.cs:line 34\r\n   at FluentAssertions.Execution.CollectingAssertionStrategy.ThrowIfAny(IDictionary`2 context) in /_/Src/FluentAssertions/Execution/CollectingAssertionStrategy.cs:line 42\r\n   at Microsoft.FSharp.Core.Operators.Using[T,TResult](T resource, FSharpFunc`2 action) in D:\\a\\_work\\1\\s\\src\\fsharp\\FSharp.Core\\prim-types.fs:line 4807\r\n   at <StartupCode$FSI_0008>.$FSI_0008.main@()",
     "output_type": "error",
     "traceback": [
      "FluentAssertions.Execution.AssertionFailedException: Expected value to be 3, but found 2.\r\n",
      "Expected value to be 5, but found 4.\r\n",
      "\r\n",
      "   at FluentAssertions.Execution.FallbackTestFramework.Throw(String message) in /_/Src/FluentAssertions/Execution/FallbackTestFramework.cs:line 21\r\n",
      "   at FluentAssertions.Execution.TestFrameworkProvider.Throw(String message) in /_/Src/FluentAssertions/Execution/TestFrameworkProvider.cs:line 34\r\n",
      "   at FluentAssertions.Execution.CollectingAssertionStrategy.ThrowIfAny(IDictionary`2 context) in /_/Src/FluentAssertions/Execution/CollectingAssertionStrategy.cs:line 42\r\n",
      "   at Microsoft.FSharp.Core.Operators.Using[T,TResult](T resource, FSharpFunc`2 action) in D:\\a\\_work\\1\\s\\src\\fsharp\\FSharp.Core\\prim-types.fs:line 4807\r\n",
      "   at <StartupCode$FSI_0008>.$FSI_0008.main@()"
     ]
    }
   ],
   "source": [
    "open FluentAssertions.Execution;\n",
    "\n",
    "using (new AssertionScope()) (fun _ -> \n",
    "    (eventuallyMs 0 0) {\n",
    "      (1+1).Should().Be(3, null, null) |> ignore;\n",
    "    }\n",
    "    (eventuallyMs 0 0) {\n",
    "      (2*2).Should().Be(5, null, null) |> ignore;\n",
    "    }\n",
    ")"
   ]
  },
  {
   "cell_type": "markdown",
   "metadata": {},
   "source": [
    "Asynchronous methods are also available. Those would use `Async.Sleep` instead of `Thread.Sleep`."
   ]
  },
  {
   "cell_type": "code",
   "execution_count": null,
   "metadata": {
    "dotnet_interactive": {
     "language": "fsharp"
    },
    "vscode": {
     "languageId": "dotnet-interactive.fsharp"
    }
   },
   "outputs": [
    {
     "data": {
      "text/plain": [
       "Wall time: 3341.2357ms"
      ]
     },
     "metadata": {},
     "output_type": "display_data"
    }
   ],
   "source": [
    "#!time\n",
    "\n",
    "let inFuture = DateTime.Now.AddSeconds(3)\n",
    "(eventuallyAsyncMs 4000 400) {\n",
    "    DateTime.Now.Should().BeAfter(inFuture, null, null) |> ignore\n",
    "    return async.Zero()\n",
    "} |> Async.RunSynchronously"
   ]
  }
 ],
 "metadata": {
  "kernelspec": {
   "display_name": ".NET (C#)",
   "language": "C#",
   "name": ".net-csharp"
  },
  "language_info": {
   "file_extension": ".cs",
   "mimetype": "text/x-csharp",
   "name": "C#",
   "pygments_lexer": "csharp",
   "version": "9.0"
  },
  "orig_nbformat": 4,
  "vscode": {
   "interpreter": {
    "hash": "d682c41405c1f2b20cc212e3c0b9d566c6aa25e00b936883719ee134a249e8f6"
   }
  }
 },
 "nbformat": 4,
 "nbformat_minor": 2
}
