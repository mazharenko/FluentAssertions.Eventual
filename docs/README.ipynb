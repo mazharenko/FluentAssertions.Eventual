{
 "cells": [
  {
   "cell_type": "markdown",
   "metadata": {},
   "source": [
    "# Eventual assertions for FluentAssertions\n"
   ]
  },
  {
   "cell_type": "markdown",
   "metadata": {},
   "source": [
    "\n",
    "The extension allows to loop FluentAssertions checks for a specified period of time. The extension relies heavily on the [Assertion Scopes](https://fluentassertions.com/introduction#assertion-scopes) feature and is an assertion scope itself. Any failed assertion among those wrapped with the extension will cause another attempt. The last try is always done out of the Assertion Scope (under the parent scope)\n",
    "\n",
    "A particular goal when designing the extension was to provide the experience similar to given by Assertion Scopes, that is, no additional nesting would be needed. This is elegantly achievable in F\\#, but a little bit of a challenge for C\\#"
   ]
  },
  {
   "cell_type": "markdown",
   "metadata": {},
   "source": [
    "## EventualAssertions in C\\#"
   ]
  },
  {
   "cell_type": "code",
   "execution_count": 1,
   "metadata": {
    "dotnet_interactive": {
     "language": "csharp"
    },
    "vscode": {
     "languageId": "polyglot-notebook"
    }
   },
   "outputs": [
    {
     "data": {
      "text/html": [
       "<div><div></div><div></div><div><strong>Installed Packages</strong><ul><li><span>mazharenko.FluentAssertions.Eventual, 4.0.2</span></li></ul></div></div>"
      ]
     },
     "metadata": {},
     "output_type": "display_data"
    }
   ],
   "source": [
    "#r \"nuget: mazharenko.FluentAssertions.Eventual, *\""
   ]
  },
  {
   "cell_type": "code",
   "execution_count": 2,
   "metadata": {
    "dotnet_interactive": {
     "language": "csharp"
    },
    "vscode": {
     "languageId": "polyglot-notebook"
    }
   },
   "outputs": [],
   "source": [
    "using mazharenko.FluentAssertions.Eventual;\n",
    "using FluentAssertions;\n",
    "using FluentAssertions.Extensions;\n",
    "\n",
    "var attempts = EventualAssertions.Attempts(4.Seconds(), 400.Milliseconds());"
   ]
  },
  {
   "cell_type": "markdown",
   "metadata": {},
   "source": [
    "`attempts` now is of a type that implements `IEnumerable` returning `IEnumerator` wrapping an assertion scope. On each new element requested the assertion scope is checked and the specified delay is waited. Here, assertions are supposed to be placed in the body of the loop over `attempts`. Elements of `attempts` can provide some meta information about the attempt."
   ]
  },
  {
   "cell_type": "code",
   "execution_count": 3,
   "metadata": {
    "dotnet_interactive": {
     "language": "csharp"
    },
    "vscode": {
     "languageId": "polyglot-notebook"
    }
   },
   "outputs": [
    {
     "name": "stdout",
     "output_type": "stream",
     "text": [
      "1\n",
      "2\n",
      "3\n",
      "4\n",
      "5\n",
      "6\n",
      "7\n",
      "8\n",
      "9\n"
     ]
    },
    {
     "data": {
      "text/plain": [
       "Wall time: 3391.9839ms"
      ]
     },
     "metadata": {},
     "output_type": "display_data"
    }
   ],
   "source": [
    "#!time\n",
    "var inFuture = DateTime.Now.AddSeconds(3);\n",
    "\n",
    "foreach (var attempt in attempts)\n",
    "{\n",
    "    Console.WriteLine(attempt.Number);\n",
    "    DateTime.Now.Should().BeAfter(inFuture);\n",
    "}"
   ]
  },
  {
   "cell_type": "code",
   "execution_count": 4,
   "metadata": {
    "dotnet_interactive": {
     "language": "csharp"
    },
    "vscode": {
     "languageId": "polyglot-notebook"
    }
   },
   "outputs": [
    {
     "ename": "Error",
     "evalue": "FluentAssertions.Execution.AssertionFailedException: Expected value to be 3, but found 2.\n   at FluentAssertions.Execution.FallbackTestFramework.Throw(String message)\n   at FluentAssertions.Execution.TestFrameworkProvider.Throw(String message)\n   at FluentAssertions.Execution.DefaultAssertionStrategy.HandleFailure(String message)\n   at FluentAssertions.Execution.AssertionScope.FailWith(Func`1 failReasonFunc)\n   at FluentAssertions.Execution.AssertionScope.FailWith(Func`1 failReasonFunc)\n   at FluentAssertions.Execution.AssertionScope.FailWith(String message, Object[] args)\n   at FluentAssertions.Numeric.NumericAssertions`2.Be(T expected, String because, Object[] becauseArgs)\n   at Submission#4.<<Initialize>>d__0.MoveNext()\n--- End of stack trace from previous location ---\n   at Microsoft.CodeAnalysis.Scripting.ScriptExecutionState.RunSubmissionsAsync[TResult](ImmutableArray`1 precedingExecutors, Func`2 currentExecutor, StrongBox`1 exceptionHolderOpt, Func`2 catchExceptionOpt, CancellationToken cancellationToken)",
     "output_type": "error",
     "traceback": [
      "FluentAssertions.Execution.AssertionFailedException: Expected value to be 3, but found 2.\n",
      "   at FluentAssertions.Execution.FallbackTestFramework.Throw(String message)\n",
      "   at FluentAssertions.Execution.TestFrameworkProvider.Throw(String message)\n",
      "   at FluentAssertions.Execution.DefaultAssertionStrategy.HandleFailure(String message)\n",
      "   at FluentAssertions.Execution.AssertionScope.FailWith(Func`1 failReasonFunc)\n",
      "   at FluentAssertions.Execution.AssertionScope.FailWith(Func`1 failReasonFunc)\n",
      "   at FluentAssertions.Execution.AssertionScope.FailWith(String message, Object[] args)\n",
      "   at FluentAssertions.Numeric.NumericAssertions`2.Be(T expected, String because, Object[] becauseArgs)\n",
      "   at Submission#4.<<Initialize>>d__0.MoveNext()\n",
      "--- End of stack trace from previous location ---\n",
      "   at Microsoft.CodeAnalysis.Scripting.ScriptExecutionState.RunSubmissionsAsync[TResult](ImmutableArray`1 precedingExecutors, Func`2 currentExecutor, StrongBox`1 exceptionHolderOpt, Func`2 catchExceptionOpt, CancellationToken cancellationToken)"
     ]
    }
   ],
   "source": [
    "foreach (var _ in EventualAssertions.Attempts(400, 50))\n",
    "    (1+1).Should().Be(3);"
   ]
  },
  {
   "cell_type": "markdown",
   "metadata": {},
   "source": [
    "EventualAssertions can be nested in other assertion scopes."
   ]
  },
  {
   "cell_type": "code",
   "execution_count": 5,
   "metadata": {
    "dotnet_interactive": {
     "language": "csharp"
    },
    "vscode": {
     "languageId": "polyglot-notebook"
    }
   },
   "outputs": [
    {
     "ename": "Error",
     "evalue": "FluentAssertions.Execution.AssertionFailedException: Expected value to be 3, but found 2.\nExpected value to be 5, but found 4.\n\n   at FluentAssertions.Execution.FallbackTestFramework.Throw(String message)\n   at FluentAssertions.Execution.TestFrameworkProvider.Throw(String message)\n   at FluentAssertions.Execution.CollectingAssertionStrategy.ThrowIfAny(IDictionary`2 context)\n   at FluentAssertions.Execution.AssertionScope.Dispose()\n   at Submission#5.<<Initialize>>d__0.MoveNext()\n--- End of stack trace from previous location ---\n   at Microsoft.CodeAnalysis.Scripting.ScriptExecutionState.RunSubmissionsAsync[TResult](ImmutableArray`1 precedingExecutors, Func`2 currentExecutor, StrongBox`1 exceptionHolderOpt, Func`2 catchExceptionOpt, CancellationToken cancellationToken)",
     "output_type": "error",
     "traceback": [
      "FluentAssertions.Execution.AssertionFailedException: Expected value to be 3, but found 2.\n",
      "Expected value to be 5, but found 4.\n",
      "\n",
      "   at FluentAssertions.Execution.FallbackTestFramework.Throw(String message)\n",
      "   at FluentAssertions.Execution.TestFrameworkProvider.Throw(String message)\n",
      "   at FluentAssertions.Execution.CollectingAssertionStrategy.ThrowIfAny(IDictionary`2 context)\n",
      "   at FluentAssertions.Execution.AssertionScope.Dispose()\n",
      "   at Submission#5.<<Initialize>>d__0.MoveNext()\n",
      "--- End of stack trace from previous location ---\n",
      "   at Microsoft.CodeAnalysis.Scripting.ScriptExecutionState.RunSubmissionsAsync[TResult](ImmutableArray`1 precedingExecutors, Func`2 currentExecutor, StrongBox`1 exceptionHolderOpt, Func`2 catchExceptionOpt, CancellationToken cancellationToken)"
     ]
    }
   ],
   "source": [
    "using FluentAssertions.Execution;\n",
    "\n",
    "using (new AssertionScope())\n",
    "{\n",
    "    foreach (var _ in EventualAssertions.Attempts(400, 50))\n",
    "    {\n",
    "        (1+1).Should().Be(3);\n",
    "        break;\n",
    "    }\n",
    "    foreach (var _ in EventualAssertions.Attempts(400, 50))\n",
    "    {\n",
    "        (2*2).Should().Be(5);\n",
    "        break;\n",
    "    }\n",
    "}"
   ]
  },
  {
   "cell_type": "markdown",
   "metadata": {},
   "source": [
    "Likewise, other assertion scopes can be nested in EventualAssertions"
   ]
  },
  {
   "cell_type": "code",
   "execution_count": 6,
   "metadata": {
    "dotnet_interactive": {
     "language": "csharp"
    },
    "vscode": {
     "languageId": "polyglot-notebook"
    }
   },
   "outputs": [
    {
     "ename": "Error",
     "evalue": "FluentAssertions.Execution.AssertionFailedException: Expected value to be 3, but found 2.\nExpected value to be 5, but found 4.\n\n   at FluentAssertions.Execution.FallbackTestFramework.Throw(String message)\n   at FluentAssertions.Execution.TestFrameworkProvider.Throw(String message)\n   at FluentAssertions.Execution.CollectingAssertionStrategy.ThrowIfAny(IDictionary`2 context)\n   at FluentAssertions.Execution.AssertionScope.Dispose()\n   at Submission#6.<<Initialize>>d__0.MoveNext()\n--- End of stack trace from previous location ---\n   at Microsoft.CodeAnalysis.Scripting.ScriptExecutionState.RunSubmissionsAsync[TResult](ImmutableArray`1 precedingExecutors, Func`2 currentExecutor, StrongBox`1 exceptionHolderOpt, Func`2 catchExceptionOpt, CancellationToken cancellationToken)",
     "output_type": "error",
     "traceback": [
      "FluentAssertions.Execution.AssertionFailedException: Expected value to be 3, but found 2.\n",
      "Expected value to be 5, but found 4.\n",
      "\n",
      "   at FluentAssertions.Execution.FallbackTestFramework.Throw(String message)\n",
      "   at FluentAssertions.Execution.TestFrameworkProvider.Throw(String message)\n",
      "   at FluentAssertions.Execution.CollectingAssertionStrategy.ThrowIfAny(IDictionary`2 context)\n",
      "   at FluentAssertions.Execution.AssertionScope.Dispose()\n",
      "   at Submission#6.<<Initialize>>d__0.MoveNext()\n",
      "--- End of stack trace from previous location ---\n",
      "   at Microsoft.CodeAnalysis.Scripting.ScriptExecutionState.RunSubmissionsAsync[TResult](ImmutableArray`1 precedingExecutors, Func`2 currentExecutor, StrongBox`1 exceptionHolderOpt, Func`2 catchExceptionOpt, CancellationToken cancellationToken)"
     ]
    }
   ],
   "source": [
    "foreach (var _ in EventualAssertions.Attempts(400, 30))\n",
    "{\n",
    "    using (new AssertionScope()) \n",
    "    {\n",
    "        (1+1).Should().Be(3);\n",
    "        (2*2).Should().Be(5);\n",
    "    }\n",
    "}"
   ]
  },
  {
   "cell_type": "markdown",
   "metadata": {},
   "source": [
    "Asynchronous methods are also available. Those would use `Task.Delay` instead of `Thread.Sleep`."
   ]
  },
  {
   "cell_type": "code",
   "execution_count": 7,
   "metadata": {
    "dotnet_interactive": {
     "language": "csharp"
    },
    "vscode": {
     "languageId": "polyglot-notebook"
    }
   },
   "outputs": [
    {
     "data": {
      "text/plain": [
       "Wall time: 3255.9257ms"
      ]
     },
     "metadata": {},
     "output_type": "display_data"
    }
   ],
   "source": [
    "#!time\n",
    "var inFuture = DateTime.Now.AddSeconds(3);\n",
    "await foreach(var _ in EventualAssertions.AttemptsAsync(4.Seconds(), 400.Milliseconds()))\n",
    "{\n",
    "    DateTime.Now.Should().BeAfter(inFuture);\n",
    "}"
   ]
  },
  {
   "cell_type": "markdown",
   "metadata": {},
   "source": [
    "## Source generator for EventualAssertions\n",
    "\n",
    "When having a custom assertion class for a dynamic by nature subject the class can be decorated by the `[GenerateEventual]` attribute to get a special waiting wrapper generated. "
   ]
  },
  {
   "cell_type": "code",
   "execution_count": 8,
   "metadata": {
    "dotnet_interactive": {
     "language": "pwsh"
    },
    "polyglot_notebook": {
     "kernelName": "pwsh"
    },
    "vscode": {
     "languageId": "polyglot-notebook"
    }
   },
   "outputs": [],
   "source": [
    "dotnet publish ./docs-example/docs-example.csproj > $null"
   ]
  },
  {
   "cell_type": "markdown",
   "metadata": {},
   "source": [
    "The `docs-example` project defines dynamic `CurrentDateTime` which returns current time, and assertions for it."
   ]
  },
  {
   "cell_type": "code",
   "execution_count": 9,
   "metadata": {
    "dotnet_interactive": {
     "language": "csharp"
    },
    "polyglot_notebook": {
     "kernelName": "csharp"
    },
    "vscode": {
     "languageId": "polyglot-notebook"
    }
   },
   "outputs": [
    {
     "ename": "Error",
     "evalue": "FluentAssertions.Execution.AssertionFailedException: Expected the date and time to be after <2023-09-02 03:01:31.249110>, but found <2023-09-02 03:01:28.249336>.\n   at FluentAssertions.Execution.FallbackTestFramework.Throw(String message)\n   at FluentAssertions.Execution.TestFrameworkProvider.Throw(String message)\n   at FluentAssertions.Execution.DefaultAssertionStrategy.HandleFailure(String message)\n   at FluentAssertions.Execution.AssertionScope.FailWith(Func`1 failReasonFunc)\n   at docs_example.CurrentDateTimeAssertions.BeAfter(DateTime expected, String because, Object[] becauseArgs) in /Users/alex/Workspace/FluentAssertions.Extensions/docs/docs-example/Example.cs:line 34\n   at Submission#8.<<Initialize>>d__0.MoveNext()\n--- End of stack trace from previous location ---\n   at Microsoft.CodeAnalysis.Scripting.ScriptExecutionState.RunSubmissionsAsync[TResult](ImmutableArray`1 precedingExecutors, Func`2 currentExecutor, StrongBox`1 exceptionHolderOpt, Func`2 catchExceptionOpt, CancellationToken cancellationToken)",
     "output_type": "error",
     "traceback": [
      "FluentAssertions.Execution.AssertionFailedException: Expected the date and time to be after <2023-09-02 03:01:31.249110>, but found <2023-09-02 03:01:28.249336>.\n",
      "   at FluentAssertions.Execution.FallbackTestFramework.Throw(String message)\n",
      "   at FluentAssertions.Execution.TestFrameworkProvider.Throw(String message)\n",
      "   at FluentAssertions.Execution.DefaultAssertionStrategy.HandleFailure(String message)\n",
      "   at FluentAssertions.Execution.AssertionScope.FailWith(Func`1 failReasonFunc)\n",
      "   at docs_example.CurrentDateTimeAssertions.BeAfter(DateTime expected, String because, Object[] becauseArgs) in /Users/alex/Workspace/FluentAssertions.Extensions/docs/docs-example/Example.cs:line 34\n",
      "   at Submission#8.<<Initialize>>d__0.MoveNext()\n",
      "--- End of stack trace from previous location ---\n",
      "   at Microsoft.CodeAnalysis.Scripting.ScriptExecutionState.RunSubmissionsAsync[TResult](ImmutableArray`1 precedingExecutors, Func`2 currentExecutor, StrongBox`1 exceptionHolderOpt, Func`2 catchExceptionOpt, CancellationToken cancellationToken)"
     ]
    }
   ],
   "source": [
    "#r \"docs-example/bin/Debug/net7.0/publish/docs-example.dll\"\n",
    "using docs_example;\n",
    "\n",
    "var inFuture = DateTime.Now.AddSeconds(3);\n",
    "new CurrentDateTime().Should().BeAfter(inFuture);"
   ]
  },
  {
   "cell_type": "markdown",
   "metadata": {},
   "source": [
    "The assertion is decorated with the attribute, which allows the following syntax:"
   ]
  },
  {
   "cell_type": "code",
   "execution_count": 10,
   "metadata": {
    "dotnet_interactive": {
     "language": "csharp"
    },
    "polyglot_notebook": {
     "kernelName": "csharp"
    },
    "vscode": {
     "languageId": "polyglot-notebook"
    }
   },
   "outputs": [
    {
     "data": {
      "text/plain": [
       "Wall time: 3047.6415ms"
      ]
     },
     "metadata": {},
     "output_type": "display_data"
    }
   ],
   "source": [
    "#!time \n",
    "\n",
    "using docs_example;\n",
    "var inFuture = DateTime.Now.AddSeconds(3);\n",
    "new CurrentDateTime().Should().Eventually().BeAfter(inFuture);"
   ]
  },
  {
   "cell_type": "markdown",
   "metadata": {},
   "source": [
    "`Eventually()` method returns a special wrapper with all `CustomAssertion` methods from the wrapped class with the same arguments and return values. Its `BeAfter` method from the example above will loop the original `BeAfter` check for some default period of time. It can be overridden via `Eventually` overloads."
   ]
  },
  {
   "cell_type": "markdown",
   "metadata": {},
   "source": [
    "## EventualAssertions in F\\#\n",
    "\n",
    "The F\\# implementation provides a special looping computation expression builder."
   ]
  },
  {
   "cell_type": "code",
   "execution_count": 11,
   "metadata": {
    "dotnet_interactive": {
     "language": "fsharp"
    },
    "vscode": {
     "languageId": "polyglot-notebook"
    }
   },
   "outputs": [
    {
     "data": {
      "text/html": [
       "<div><div></div><div></div><div><strong>Installed Packages</strong><ul><li><span>mazharenko.FluentAssertions.Eventual.FSharp, 4.0.2</span></li></ul></div></div>"
      ]
     },
     "metadata": {},
     "output_type": "display_data"
    }
   ],
   "source": [
    "#r \"nuget: mazharenko.FluentAssertions.Eventual.FSharp, *\"\n",
    "\n",
    "open mazharenko.FluentAssertions.Eventual.EventualAssertions"
   ]
  },
  {
   "cell_type": "code",
   "execution_count": 12,
   "metadata": {
    "dotnet_interactive": {
     "language": "fsharp"
    },
    "vscode": {
     "languageId": "polyglot-notebook"
    }
   },
   "outputs": [
    {
     "data": {
      "text/plain": [
       "Wall time: 3579.631ms"
      ]
     },
     "metadata": {},
     "output_type": "display_data"
    }
   ],
   "source": [
    "#!time\n",
    "\n",
    "open FluentAssertions\n",
    "\n",
    "let inFuture = DateTime.Now.AddSeconds(float 3)\n",
    "(eventually (TimeSpan.FromSeconds(4)) (TimeSpan.FromMilliseconds(40))) {\n",
    "    DateTime.Now.Should().BeAfter(inFuture, null, null) |> ignore\n",
    "}"
   ]
  },
  {
   "cell_type": "code",
   "execution_count": 13,
   "metadata": {
    "dotnet_interactive": {
     "language": "fsharp"
    },
    "vscode": {
     "languageId": "polyglot-notebook"
    }
   },
   "outputs": [
    {
     "ename": "Error",
     "evalue": "FluentAssertions.Execution.AssertionFailedException: Expected value to be 3, but found 2.\n   at FluentAssertions.Execution.FallbackTestFramework.Throw(String message)\n   at FluentAssertions.Execution.TestFrameworkProvider.Throw(String message)\n   at FluentAssertions.Execution.DefaultAssertionStrategy.HandleFailure(String message)\n   at FluentAssertions.Execution.AssertionScope.FailWith(Func`1 failReasonFunc)\n   at FluentAssertions.Numeric.NumericAssertions`2.Be(T expected, String because, Object[] becauseArgs)\n   at FSI_0007.it@2-1.Invoke(Unit unitVar)\n   at mazharenko.FluentAssertions.Eventual.EventualAssertions.EventualAssertionsBuilder.Run(FSharpFunc`2 f)\n   at <StartupCode$FSI_0007>.$FSI_0007.main@()\n   at System.RuntimeMethodHandle.InvokeMethod(Object target, Void** arguments, Signature sig, Boolean isConstructor)\n   at System.Reflection.MethodInvoker.Invoke(Object obj, IntPtr* args, BindingFlags invokeAttr)",
     "output_type": "error",
     "traceback": [
      "FluentAssertions.Execution.AssertionFailedException: Expected value to be 3, but found 2.\n",
      "   at FluentAssertions.Execution.FallbackTestFramework.Throw(String message)\n",
      "   at FluentAssertions.Execution.TestFrameworkProvider.Throw(String message)\n",
      "   at FluentAssertions.Execution.DefaultAssertionStrategy.HandleFailure(String message)\n",
      "   at FluentAssertions.Execution.AssertionScope.FailWith(Func`1 failReasonFunc)\n",
      "   at FluentAssertions.Numeric.NumericAssertions`2.Be(T expected, String because, Object[] becauseArgs)\n",
      "   at FSI_0007.it@2-1.Invoke(Unit unitVar)\n",
      "   at mazharenko.FluentAssertions.Eventual.EventualAssertions.EventualAssertionsBuilder.Run(FSharpFunc`2 f)\n",
      "   at <StartupCode$FSI_0007>.$FSI_0007.main@()\n",
      "   at System.RuntimeMethodHandle.InvokeMethod(Object target, Void** arguments, Signature sig, Boolean isConstructor)\n",
      "   at System.Reflection.MethodInvoker.Invoke(Object obj, IntPtr* args, BindingFlags invokeAttr)"
     ]
    }
   ],
   "source": [
    "(eventuallyMs 400 40) {\n",
    "    (1+1).Should().Be(3, null, null) |> ignore\n",
    "}"
   ]
  },
  {
   "cell_type": "markdown",
   "metadata": {},
   "source": [
    "EventualAssertions builder can be nested in other assertion scopes."
   ]
  },
  {
   "cell_type": "code",
   "execution_count": 14,
   "metadata": {
    "dotnet_interactive": {
     "language": "fsharp"
    },
    "vscode": {
     "languageId": "polyglot-notebook"
    }
   },
   "outputs": [
    {
     "ename": "Error",
     "evalue": "FluentAssertions.Execution.AssertionFailedException: Expected value to be 3, but found 2.\nExpected value to be 5, but found 4.\n\n   at FluentAssertions.Execution.FallbackTestFramework.Throw(String message)\n   at FluentAssertions.Execution.TestFrameworkProvider.Throw(String message)\n   at FluentAssertions.Execution.CollectingAssertionStrategy.ThrowIfAny(IDictionary`2 context)\n   at FluentAssertions.Execution.AssertionScope.Dispose()\n   at Microsoft.FSharp.Core.Operators.Using[T,TResult](T resource, FSharpFunc`2 action) in D:\\a\\_work\\1\\s\\src\\FSharp.Core\\prim-types.fs:line 5160\n   at <StartupCode$FSI_0008>.$FSI_0008.main@()\n   at System.RuntimeMethodHandle.InvokeMethod(Object target, Void** arguments, Signature sig, Boolean isConstructor)\n   at System.Reflection.MethodInvoker.Invoke(Object obj, IntPtr* args, BindingFlags invokeAttr)",
     "output_type": "error",
     "traceback": [
      "FluentAssertions.Execution.AssertionFailedException: Expected value to be 3, but found 2.\n",
      "Expected value to be 5, but found 4.\n",
      "\n",
      "   at FluentAssertions.Execution.FallbackTestFramework.Throw(String message)\n",
      "   at FluentAssertions.Execution.TestFrameworkProvider.Throw(String message)\n",
      "   at FluentAssertions.Execution.CollectingAssertionStrategy.ThrowIfAny(IDictionary`2 context)\n",
      "   at FluentAssertions.Execution.AssertionScope.Dispose()\n",
      "   at Microsoft.FSharp.Core.Operators.Using[T,TResult](T resource, FSharpFunc`2 action) in D:\\a\\_work\\1\\s\\src\\FSharp.Core\\prim-types.fs:line 5160\n",
      "   at <StartupCode$FSI_0008>.$FSI_0008.main@()\n",
      "   at System.RuntimeMethodHandle.InvokeMethod(Object target, Void** arguments, Signature sig, Boolean isConstructor)\n",
      "   at System.Reflection.MethodInvoker.Invoke(Object obj, IntPtr* args, BindingFlags invokeAttr)"
     ]
    }
   ],
   "source": [
    "open FluentAssertions.Execution\n",
    "\n",
    "using (new AssertionScope()) (fun _ -> \n",
    "    (eventuallyMs 0 0) {\n",
    "      (1+1).Should().Be(3, null, null) |> ignore\n",
    "    }\n",
    "    (eventuallyMs 0 0) {\n",
    "      (2*2).Should().Be(5, null, null) |> ignore\n",
    "    }\n",
    ")"
   ]
  },
  {
   "cell_type": "markdown",
   "metadata": {},
   "source": [
    "Likewise, other assertion scopes can be nested in EventualAssertions"
   ]
  },
  {
   "cell_type": "code",
   "execution_count": 15,
   "metadata": {
    "dotnet_interactive": {
     "language": "fsharp"
    },
    "vscode": {
     "languageId": "polyglot-notebook"
    }
   },
   "outputs": [
    {
     "ename": "Error",
     "evalue": "FluentAssertions.Execution.AssertionFailedException: Expected value to be 3, but found 2.\nExpected value to be 5, but found 4.\n\n   at FluentAssertions.Execution.FallbackTestFramework.Throw(String message)\n   at FluentAssertions.Execution.TestFrameworkProvider.Throw(String message)\n   at FluentAssertions.Execution.CollectingAssertionStrategy.ThrowIfAny(IDictionary`2 context)\n   at Microsoft.FSharp.Core.Operators.Using[T,TResult](T resource, FSharpFunc`2 action) in D:\\a\\_work\\1\\s\\src\\FSharp.Core\\prim-types.fs:line 5160\n   at FSI_0009.it@4-5.Invoke(Unit unitVar)\n   at mazharenko.FluentAssertions.Eventual.EventualAssertions.EventualAssertionsBuilder.Run(FSharpFunc`2 f)\n   at <StartupCode$FSI_0009>.$FSI_0009.main@()\n   at System.RuntimeMethodHandle.InvokeMethod(Object target, Void** arguments, Signature sig, Boolean isConstructor)\n   at System.Reflection.MethodInvoker.Invoke(Object obj, IntPtr* args, BindingFlags invokeAttr)",
     "output_type": "error",
     "traceback": [
      "FluentAssertions.Execution.AssertionFailedException: Expected value to be 3, but found 2.\n",
      "Expected value to be 5, but found 4.\n",
      "\n",
      "   at FluentAssertions.Execution.FallbackTestFramework.Throw(String message)\n",
      "   at FluentAssertions.Execution.TestFrameworkProvider.Throw(String message)\n",
      "   at FluentAssertions.Execution.CollectingAssertionStrategy.ThrowIfAny(IDictionary`2 context)\n",
      "   at Microsoft.FSharp.Core.Operators.Using[T,TResult](T resource, FSharpFunc`2 action) in D:\\a\\_work\\1\\s\\src\\FSharp.Core\\prim-types.fs:line 5160\n",
      "   at FSI_0009.it@4-5.Invoke(Unit unitVar)\n",
      "   at mazharenko.FluentAssertions.Eventual.EventualAssertions.EventualAssertionsBuilder.Run(FSharpFunc`2 f)\n",
      "   at <StartupCode$FSI_0009>.$FSI_0009.main@()\n",
      "   at System.RuntimeMethodHandle.InvokeMethod(Object target, Void** arguments, Signature sig, Boolean isConstructor)\n",
      "   at System.Reflection.MethodInvoker.Invoke(Object obj, IntPtr* args, BindingFlags invokeAttr)"
     ]
    }
   ],
   "source": [
    "open FluentAssertions.Execution\n",
    "\n",
    "(eventuallyMs 400 40) {\n",
    "    using (new AssertionScope()) (fun _ -> \n",
    "        (1+1).Should().Be(3, null, null) |> ignore\n",
    "        (2*2).Should().Be(5, null, null) |> ignore\n",
    "    )\n",
    "}"
   ]
  },
  {
   "cell_type": "markdown",
   "metadata": {},
   "source": [
    "Asynchronous methods are also available. Those would use `Async.Sleep` instead of `Thread.Sleep`."
   ]
  },
  {
   "cell_type": "code",
   "execution_count": 16,
   "metadata": {
    "dotnet_interactive": {
     "language": "fsharp"
    },
    "vscode": {
     "languageId": "polyglot-notebook"
    }
   },
   "outputs": [
    {
     "data": {
      "text/plain": [
       "Wall time: 3240.1649ms"
      ]
     },
     "metadata": {},
     "output_type": "display_data"
    }
   ],
   "source": [
    "#!time\n",
    "\n",
    "let inFuture = DateTime.Now.AddSeconds(3)\n",
    "(eventuallyAsyncMs 4000 400) {\n",
    "    DateTime.Now.Should().BeAfter(inFuture, null, null) |> ignore\n",
    "} |> Async.RunSynchronously"
   ]
  }
 ],
 "metadata": {
  "kernelspec": {
   "display_name": ".NET (C#)",
   "language": "C#",
   "name": ".net-csharp"
  },
  "language_info": {
   "file_extension": ".cs",
   "mimetype": "text/x-csharp",
   "name": "C#",
   "pygments_lexer": "csharp",
   "version": "9.0"
  },
  "orig_nbformat": 4,
  "vscode": {
   "interpreter": {
    "hash": "d682c41405c1f2b20cc212e3c0b9d566c6aa25e00b936883719ee134a249e8f6"
   }
  }
 },
 "nbformat": 4,
 "nbformat_minor": 2
}
